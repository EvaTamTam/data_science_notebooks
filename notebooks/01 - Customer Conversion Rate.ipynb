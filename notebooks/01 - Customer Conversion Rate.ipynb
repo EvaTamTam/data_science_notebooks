{
 "cells": [
  {
   "cell_type": "markdown",
   "metadata": {},
   "source": [
    "\n",
    "<img src=\"../images/01_Customer_Conversion_Rate.png\" alt=\"Drawing\" style=\"width: 750px;\"/>\n",
    "\n",
    "---\n",
    "\n",
    "# Description\n",
    "\n",
    "For this challenge, data includes info about users who visited the Acme website; whether they converted to a sale or not as well as some of their characteristics including: country, marketing channel, age, whether or not they are a new user, and the number of pages visited during that session (as a proxy for site activity/time spent on site).\n",
    "\n",
    "The goals for this project are to:\n",
    "\n",
    "  * Predict customer conversion rate\n",
    "  * Come up with recommendations for the product team and the marketing team to improve conversion rate"
   ]
  },
  {
   "cell_type": "code",
   "execution_count": 2,
   "metadata": {
    "collapsed": true
   },
   "outputs": [],
   "source": [
    "from itertools import combinations\n",
    "\n",
    "from matplotlib import rcParams\n",
    "import matplotlib.pyplot as plt\n",
    "\n",
    "import numpy as np\n",
    "import pandas as pd\n",
    "\n",
    "import seaborn as sns\n",
    "\n",
    "from scipy.stats import spearmanr\n",
    "\n",
    "from sklearn.base import BaseEstimator\n",
    "from sklearn.linear_model import LogisticRegression\n",
    "from sklearn.metrics import classification_report, precision_recall_curve\n",
    "from sklearn.model_selection import StratifiedShuffleSplit, train_test_split, cross_val_score, cross_val_predict\n",
    "from sklearn.preprocessing import scale"
   ]
  },
  {
   "cell_type": "code",
   "execution_count": 3,
   "metadata": {
    "collapsed": true
   },
   "outputs": [],
   "source": [
    "%matplotlib inline\n",
    "rcParams['figure.figsize'] = 5, 4\n",
    "sns.set_style('darkgrid')\n",
    "sns.set(font_scale=1.25)"
   ]
  },
  {
   "cell_type": "markdown",
   "metadata": {},
   "source": [
    "---\n",
    "# 1. Look at the Big Picture\n",
    "---\n",
    "\n",
    "### 1.1 Problem Description\n",
    "\n",
    "Welcome to Acme Machine Learning!  The first task you are asked to perform is to build a model to predict customer conversion on the Acme website using the customer conversion dataset. This data has metrics such as whether or not a session resulted in a sale (converted) as well as some of the user characteristics including: country, marketing channel, age, whether or not they are a new user, and the number of pages visited during that session (as a proxy for site activity/time spent on site) for each session a user logged in. Our model should learn from this data and be able to classify weather or not a session will convert to a sale or not.\n",
    "\n",
    "Your boss tells you that model predictions will be used to come up with recommendations for the product and marketing teams to improve conversion rate. Currently there is no solution/workaround to inform the product and marketing teams, which is why Acme thinks it would be useful to train a model to classify users and potentially learn by interpreting the model. The Acme conversion data looks like a great dataset to exploit for this purpose, since it includes user metrics as well as weather or not they were converted.\n",
    "\n",
    "With this information, we should be able to frame the problem by answering the following:\n",
    "* **Supervised, unsupervised, or reinforcement learning?**\n",
    "  * **Supervised learning**, since we are given labeled training data (each session observation comes with the category; i.e., converted or not).\n",
    "\n",
    "* **Classification, regression, or something else?**\n",
    "  * **Binary classification**, since we only have two labels (1 for converted else 0).\n",
    "  * Specifically, **Multivariate** binary classification since we have access to more than one feature in the dataset.\n",
    "\n",
    "Let's think... **logistic regression** is a simple supervised multivariate binary-classification algotithm with high interpretability. Let's train and evaluate a multivariate logistic regression model for this purpose.\n",
    "\n",
    "---\n",
    "\n",
    "### 1.2 Performance Metric Selection\n",
    "\n",
    "Before we get started, we must also decide how performance should be measured. For this tast, let's use precision, recall, and F-1 score, which are defined as follows:\n",
    "\n",
    "Precision: $\\quad \\rm{P}=\\dfrac{\\rm{TP}}{\\rm{TP}+\\rm{FP}}$\n",
    "\n",
    "Recall: $\\quad \\rm{R}=\\dfrac{\\rm{TP}}{\\rm{TP}+\\rm{FN}}$\n",
    "\n",
    "F-1: $\\quad \\rm{F1}=\\dfrac{2}{1/\\rm{P} + 1/\\rm{R}} = 2\\left( \\dfrac{\\rm{P}\\cdot\\rm{R}}{\\rm{P}+\\rm{R}} \\right) = \\dfrac{\\rm{TP}}{\\rm{TP} + \\frac{\\rm{FN}+\\rm{FP}}{2}}$ \n",
    "\n",
    "where $\\rm{TP}$ denotes a true positive, $\\rm{FP}$ denotes a false positive, and $\\rm{FN}$ denotes a false negative. The F1 score is the *harmonic mean* of precision and recall and is sometimes a good way to compare two classifiers.\n",
    "\n",
    "---\n",
    "\n",
    "### 1.3 Model Assumptions\n",
    "\n",
    "Logistic regression assumed the following:\n",
    "\n",
    "  * Data is free of missing values\n",
    "  * The predictant value is binary\n",
    "  * All predictors are independent of each other\n",
    "\n",
    "We will check these later on, but it is good to keep them in mind."
   ]
  },
  {
   "cell_type": "markdown",
   "metadata": {},
   "source": [
    "---\n",
    "# 2 Get the data \n",
    "---\n",
    "\n",
    "### 2.1 Load and Explore Data\n",
    "\n",
    "Let's load in the data and take a look at the first 5 rows (sessions or observations):"
   ]
  },
  {
   "cell_type": "code",
   "execution_count": 4,
   "metadata": {},
   "outputs": [
    {
     "data": {
      "text/html": [
       "<div>\n",
       "<style>\n",
       "    .dataframe thead tr:only-child th {\n",
       "        text-align: right;\n",
       "    }\n",
       "\n",
       "    .dataframe thead th {\n",
       "        text-align: left;\n",
       "    }\n",
       "\n",
       "    .dataframe tbody tr th {\n",
       "        vertical-align: top;\n",
       "    }\n",
       "</style>\n",
       "<table border=\"1\" class=\"dataframe\">\n",
       "  <thead>\n",
       "    <tr style=\"text-align: right;\">\n",
       "      <th></th>\n",
       "      <th>country</th>\n",
       "      <th>age</th>\n",
       "      <th>new_user</th>\n",
       "      <th>source</th>\n",
       "      <th>pages_visited</th>\n",
       "      <th>converted</th>\n",
       "    </tr>\n",
       "  </thead>\n",
       "  <tbody>\n",
       "    <tr>\n",
       "      <th>0</th>\n",
       "      <td>UK</td>\n",
       "      <td>25</td>\n",
       "      <td>1</td>\n",
       "      <td>Ads</td>\n",
       "      <td>1</td>\n",
       "      <td>0</td>\n",
       "    </tr>\n",
       "    <tr>\n",
       "      <th>1</th>\n",
       "      <td>US</td>\n",
       "      <td>23</td>\n",
       "      <td>1</td>\n",
       "      <td>Seo</td>\n",
       "      <td>5</td>\n",
       "      <td>0</td>\n",
       "    </tr>\n",
       "    <tr>\n",
       "      <th>2</th>\n",
       "      <td>US</td>\n",
       "      <td>28</td>\n",
       "      <td>1</td>\n",
       "      <td>Seo</td>\n",
       "      <td>4</td>\n",
       "      <td>0</td>\n",
       "    </tr>\n",
       "    <tr>\n",
       "      <th>3</th>\n",
       "      <td>China</td>\n",
       "      <td>39</td>\n",
       "      <td>1</td>\n",
       "      <td>Seo</td>\n",
       "      <td>5</td>\n",
       "      <td>0</td>\n",
       "    </tr>\n",
       "    <tr>\n",
       "      <th>4</th>\n",
       "      <td>US</td>\n",
       "      <td>30</td>\n",
       "      <td>1</td>\n",
       "      <td>Seo</td>\n",
       "      <td>6</td>\n",
       "      <td>0</td>\n",
       "    </tr>\n",
       "  </tbody>\n",
       "</table>\n",
       "</div>"
      ],
      "text/plain": [
       "  country  age  new_user source  pages_visited  converted\n",
       "0      UK   25         1    Ads              1          0\n",
       "1      US   23         1    Seo              5          0\n",
       "2      US   28         1    Seo              4          0\n",
       "3   China   39         1    Seo              5          0\n",
       "4      US   30         1    Seo              6          0"
      ]
     },
     "execution_count": 4,
     "metadata": {},
     "output_type": "execute_result"
    }
   ],
   "source": [
    "df_obj = pd.read_csv('../data/conversion_data.csv')\n",
    "df_obj.columns = ['country', 'age', 'new_user', 'source', 'pages_visited', 'converted']\n",
    "df_obj.head()"
   ]
  },
  {
   "cell_type": "markdown",
   "metadata": {},
   "source": [
    "Each row represents one user session. Each session has 6 attributes:\n",
    "  * `country`\n",
    "  * `age`\n",
    "  * `new_user`\n",
    "  * `source`\n",
    "  * `pages_visited`\n",
    "  * `converted`\n",
    "\n",
    "The `DataFrame.info()` method can be helpful to get a quick breakdown of the data. Specifically, the `info()` method can show us the total number of rows (sessions), and each attribute’s type and number of NaN values:"
   ]
  },
  {
   "cell_type": "code",
   "execution_count": 5,
   "metadata": {},
   "outputs": [
    {
     "name": "stdout",
     "output_type": "stream",
     "text": [
      "<class 'pandas.core.frame.DataFrame'>\n",
      "RangeIndex: 316200 entries, 0 to 316199\n",
      "Data columns (total 6 columns):\n",
      "country          316200 non-null object\n",
      "age              316200 non-null int64\n",
      "new_user         316200 non-null int64\n",
      "source           316200 non-null object\n",
      "pages_visited    316200 non-null int64\n",
      "converted        316200 non-null int64\n",
      "dtypes: int64(4), object(2)\n",
      "memory usage: 14.5+ MB\n"
     ]
    }
   ],
   "source": [
    "df_obj.info()"
   ]
  },
  {
   "cell_type": "markdown",
   "metadata": {},
   "source": [
    "A few notes about the `info()` output:\n",
    "\n",
    "  * There are 316,200 rows (sessions) in the dataset, which should be plenty to train and test our logistic regression model\n",
    "  * Notice that **none of the rows (sessions) have missing values**\n",
    "  * All attributes are of type `int` except for `country` and `source` features\n",
    "  * The features `country` and `source` are of type `object`, meaning they can hold any kind of python object, but in this case, we know they are type `string`\n",
    "\n",
    "When we looked at the top five rows, we can see that values in the `country` and `source` features were repetitive, indicating that they are most likely categorical features. We can find out how many categories exist and the percentage of rows (sessions) associated with each category by using the `value_counts(normalize=True)` method. Furthermore, we know that `new_user` and `converted` are also categorical with 0 denoting `False` and 1 denoting `True`."
   ]
  },
  {
   "cell_type": "code",
   "execution_count": 6,
   "metadata": {},
   "outputs": [
    {
     "data": {
      "text/plain": [
       "US         0.563226\n",
       "China      0.242258\n",
       "UK         0.153226\n",
       "Germany    0.041290\n",
       "Name: country, dtype: float64"
      ]
     },
     "execution_count": 6,
     "metadata": {},
     "output_type": "execute_result"
    }
   ],
   "source": [
    "df_obj['country'].value_counts(normalize=True)"
   ]
  },
  {
   "cell_type": "markdown",
   "metadata": {},
   "source": [
    "It looks like the `country` feature only has four categories: US, China, UK, and Germany. From this, we can see that most users visit our site from the US followed by China, UK, and Germany."
   ]
  },
  {
   "cell_type": "code",
   "execution_count": 7,
   "metadata": {},
   "outputs": [
    {
     "data": {
      "text/plain": [
       "Seo       0.490323\n",
       "Ads       0.280645\n",
       "Direct    0.229032\n",
       "Name: source, dtype: float64"
      ]
     },
     "execution_count": 7,
     "metadata": {},
     "output_type": "execute_result"
    }
   ],
   "source": [
    "df_obj['source'].value_counts(normalize=True)"
   ]
  },
  {
   "cell_type": "markdown",
   "metadata": {},
   "source": [
    "The `source` feature only has three categories: Seo (Search Engine Optimization), Ads, and Direct. Again, we can see that Seo is the most common way users find the site followed by Ads and Direct. "
   ]
  },
  {
   "cell_type": "code",
   "execution_count": 8,
   "metadata": {},
   "outputs": [
    {
     "data": {
      "text/plain": [
       "1    0.685465\n",
       "0    0.314535\n",
       "Name: new_user, dtype: float64"
      ]
     },
     "execution_count": 8,
     "metadata": {},
     "output_type": "execute_result"
    }
   ],
   "source": [
    "df_obj['new_user'].value_counts(normalize=True)"
   ]
  },
  {
   "cell_type": "markdown",
   "metadata": {},
   "source": [
    "The `new_user` feature shows that nearly 70% of the sessions were by new users."
   ]
  },
  {
   "cell_type": "code",
   "execution_count": 9,
   "metadata": {},
   "outputs": [
    {
     "data": {
      "text/plain": [
       "0    0.967742\n",
       "1    0.032258\n",
       "Name: converted, dtype: float64"
      ]
     },
     "execution_count": 9,
     "metadata": {},
     "output_type": "execute_result"
    }
   ],
   "source": [
    "df_obj['converted'].value_counts(normalize=True)"
   ]
  },
  {
   "cell_type": "markdown",
   "metadata": {},
   "source": [
    "Conversion rate is around 3%. This is important to note because **we could achieve 97% accuracy by classifying `converted` as 0 every time.** We will keep this in mind when we begin to benchmark our model.\n",
    "\n",
    "We can also use the `DataFrame.describe()` method to generate descriptive statistics that summarize the central tendency, dispersion and shape of a dataset’s non-categorical distributions, excluding NaN values. By default, the `describe()` method considers all numerical features. As a result, we will exclude `new_user`, `pages_visited`, and `converted` as we know they are categorical (see above):"
   ]
  },
  {
   "cell_type": "code",
   "execution_count": 10,
   "metadata": {},
   "outputs": [
    {
     "data": {
      "text/html": [
       "<div>\n",
       "<style>\n",
       "    .dataframe thead tr:only-child th {\n",
       "        text-align: right;\n",
       "    }\n",
       "\n",
       "    .dataframe thead th {\n",
       "        text-align: left;\n",
       "    }\n",
       "\n",
       "    .dataframe tbody tr th {\n",
       "        vertical-align: top;\n",
       "    }\n",
       "</style>\n",
       "<table border=\"1\" class=\"dataframe\">\n",
       "  <thead>\n",
       "    <tr style=\"text-align: right;\">\n",
       "      <th></th>\n",
       "      <th>age</th>\n",
       "      <th>pages_visited</th>\n",
       "    </tr>\n",
       "  </thead>\n",
       "  <tbody>\n",
       "    <tr>\n",
       "      <th>count</th>\n",
       "      <td>316200.000000</td>\n",
       "      <td>316200.000000</td>\n",
       "    </tr>\n",
       "    <tr>\n",
       "      <th>mean</th>\n",
       "      <td>30.569858</td>\n",
       "      <td>4.872966</td>\n",
       "    </tr>\n",
       "    <tr>\n",
       "      <th>std</th>\n",
       "      <td>8.271802</td>\n",
       "      <td>3.341104</td>\n",
       "    </tr>\n",
       "    <tr>\n",
       "      <th>min</th>\n",
       "      <td>17.000000</td>\n",
       "      <td>1.000000</td>\n",
       "    </tr>\n",
       "    <tr>\n",
       "      <th>25%</th>\n",
       "      <td>24.000000</td>\n",
       "      <td>2.000000</td>\n",
       "    </tr>\n",
       "    <tr>\n",
       "      <th>50%</th>\n",
       "      <td>30.000000</td>\n",
       "      <td>4.000000</td>\n",
       "    </tr>\n",
       "    <tr>\n",
       "      <th>75%</th>\n",
       "      <td>36.000000</td>\n",
       "      <td>7.000000</td>\n",
       "    </tr>\n",
       "    <tr>\n",
       "      <th>max</th>\n",
       "      <td>123.000000</td>\n",
       "      <td>29.000000</td>\n",
       "    </tr>\n",
       "  </tbody>\n",
       "</table>\n",
       "</div>"
      ],
      "text/plain": [
       "                 age  pages_visited\n",
       "count  316200.000000  316200.000000\n",
       "mean       30.569858       4.872966\n",
       "std         8.271802       3.341104\n",
       "min        17.000000       1.000000\n",
       "25%        24.000000       2.000000\n",
       "50%        30.000000       4.000000\n",
       "75%        36.000000       7.000000\n",
       "max       123.000000      29.000000"
      ]
     },
     "execution_count": 10,
     "metadata": {},
     "output_type": "execute_result"
    }
   ],
   "source": [
    "df_obj.loc[:, ['age', 'pages_visited']].describe()"
   ]
  },
  {
   "cell_type": "markdown",
   "metadata": {},
   "source": [
    "### 2.2 Remove Outliers\n",
    "\n",
    "There are a few things to note about these distributions:\n",
    "  * Both of them have maximum values more than three standard deviations away from the mean:\n",
    "    * `age`: max is 123 with 75% below 36\n",
    "    * `pages_visited`: max is 29 with 75% below 7\n",
    "\n",
    "Lets take a look at these distributions to determine if these are truely outlyers:"
   ]
  },
  {
   "cell_type": "code",
   "execution_count": 11,
   "metadata": {},
   "outputs": [
    {
     "data": {
      "image/png": "[encoded data removed]",
      "text/plain": [
       "<matplotlib.figure.Figure at 0x112cb09e8>"
      ]
     },
     "metadata": {},
     "output_type": "display_data"
    }
   ],
   "source": [
    "x = df_obj.loc[:,['age', 'pages_visited']].hist(figsize=(9, 4), bins=30);"
   ]
  },
  {
   "cell_type": "markdown",
   "metadata": {},
   "source": [
    "Now we can see that both of the distributions have a tail that extends beyond three standard deviations of the mean (55 years and 14 pages). However, it is important to see how much data lies outside three standard deviations. Let's take a look:"
   ]
  },
  {
   "cell_type": "code",
   "execution_count": 12,
   "metadata": {},
   "outputs": [
    {
     "name": "stdout",
     "output_type": "stream",
     "text": [
      "Ages below 66 represent 99.6% of observatons.\n",
      "Users viewing less than 15 pages represent 98.2% of observatons.\n"
     ]
    }
   ],
   "source": [
    "print('Ages below 66 represent {0:.1f}% of observatons.'\n",
    "      .format(len(df_obj[df_obj['age']<56]) / len(df_obj) * 100))\n",
    "print('Users viewing less than 15 pages represent {0:.1f}% of observatons.'\n",
    "      .format(len(df_obj[df_obj['pages_visited']<15]) / len(df_obj) * 100))"
   ]
  },
  {
   "cell_type": "markdown",
   "metadata": {},
   "source": [
    "It would appear that the ages greater than 55 are truely outliers, which makes sense because users were asked to enter age and this may have been entered incorrectly. On the other hand, it seems that nearly 2% of the observations contain people who viewed more than 14 pages. So let's leave that tail for now and see how the model performs."
   ]
  },
  {
   "cell_type": "code",
   "execution_count": 13,
   "metadata": {
    "collapsed": true
   },
   "outputs": [],
   "source": [
    "df_obj = df_obj.query('age < 56')"
   ]
  },
  {
   "cell_type": "markdown",
   "metadata": {},
   "source": [
    "---\n",
    "\n",
    "# 3. Discover and visualize the data to gain insights\n",
    "\n",
    "---\n",
    "\n",
    "So far we have only taken a cursory look at the dataset in general. Next, let's dig a bit deeper by looking at the average conversion rate as a function of each feature:"
   ]
  },
  {
   "cell_type": "code",
   "execution_count": 14,
   "metadata": {},
   "outputs": [
    {
     "data": {
      "image/png": "[encoded data removed]",
      "text/plain": [
       "<matplotlib.figure.Figure at 0x1082128d0>"
      ]
     },
     "metadata": {},
     "output_type": "display_data"
    }
   ],
   "source": [
    "fig, ax = plt.subplots(figsize=(20, 4), ncols=5, nrows=1)\n",
    "bars = {'country', 'new_user', 'source'}\n",
    "for i, col in enumerate(['country', 'age', 'new_user', 'source', 'pages_visited']):\n",
    "    if col in bars:\n",
    "        df_obj.groupby(col).agg({'converted': 'mean'}).plot.bar(ax=ax[i]);\n",
    "    else:\n",
    "        df_obj.groupby(col).agg({'converted': 'mean'}).plot(ax=ax[i]);"
   ]
  },
  {
   "cell_type": "markdown",
   "metadata": {},
   "source": [
    "Average conversion as a function of pages visited looks very much like a logistic function and it seems like we could come up with a decision boundary between 10 and 20.\n",
    "\n",
    "Furthermore, `age` seems to show a negative correlation with conversion (on average) and the `country` and `new_user` fields also appear to have some descriminatory information in them. It seems like all of the features besides `source` would provide some predictive value to the model. So, let's prepare these features for machine learning in the next section.\n",
    "\n",
    "Before we move on **it is important to create a testing set, set it aside, and never look at it!** Here we will use purely random sampling methods. This is generally fine if our dataset is large enough (especially relative to the number of attributes), which is true in our case"
   ]
  },
  {
   "cell_type": "code",
   "execution_count": 15,
   "metadata": {},
   "outputs": [
    {
     "data": {
      "text/html": [
       "<div>\n",
       "<style>\n",
       "    .dataframe thead tr:only-child th {\n",
       "        text-align: right;\n",
       "    }\n",
       "\n",
       "    .dataframe thead th {\n",
       "        text-align: left;\n",
       "    }\n",
       "\n",
       "    .dataframe tbody tr th {\n",
       "        vertical-align: top;\n",
       "    }\n",
       "</style>\n",
       "<table border=\"1\" class=\"dataframe\">\n",
       "  <thead>\n",
       "    <tr style=\"text-align: right;\">\n",
       "      <th></th>\n",
       "      <th>country</th>\n",
       "      <th>age</th>\n",
       "      <th>new_user</th>\n",
       "      <th>source</th>\n",
       "      <th>pages_visited</th>\n",
       "      <th>converted</th>\n",
       "    </tr>\n",
       "  </thead>\n",
       "  <tbody>\n",
       "    <tr>\n",
       "      <th>208319</th>\n",
       "      <td>US</td>\n",
       "      <td>26</td>\n",
       "      <td>1</td>\n",
       "      <td>Seo</td>\n",
       "      <td>5</td>\n",
       "      <td>0</td>\n",
       "    </tr>\n",
       "    <tr>\n",
       "      <th>143073</th>\n",
       "      <td>US</td>\n",
       "      <td>32</td>\n",
       "      <td>1</td>\n",
       "      <td>Seo</td>\n",
       "      <td>3</td>\n",
       "      <td>0</td>\n",
       "    </tr>\n",
       "    <tr>\n",
       "      <th>276086</th>\n",
       "      <td>US</td>\n",
       "      <td>43</td>\n",
       "      <td>0</td>\n",
       "      <td>Direct</td>\n",
       "      <td>10</td>\n",
       "      <td>0</td>\n",
       "    </tr>\n",
       "    <tr>\n",
       "      <th>53447</th>\n",
       "      <td>US</td>\n",
       "      <td>29</td>\n",
       "      <td>1</td>\n",
       "      <td>Seo</td>\n",
       "      <td>5</td>\n",
       "      <td>0</td>\n",
       "    </tr>\n",
       "    <tr>\n",
       "      <th>177242</th>\n",
       "      <td>US</td>\n",
       "      <td>24</td>\n",
       "      <td>0</td>\n",
       "      <td>Seo</td>\n",
       "      <td>2</td>\n",
       "      <td>0</td>\n",
       "    </tr>\n",
       "  </tbody>\n",
       "</table>\n",
       "</div>"
      ],
      "text/plain": [
       "       country  age  new_user  source  pages_visited  converted\n",
       "208319      US   26         1     Seo              5          0\n",
       "143073      US   32         1     Seo              3          0\n",
       "276086      US   43         0  Direct             10          0\n",
       "53447       US   29         1     Seo              5          0\n",
       "177242      US   24         0     Seo              2          0"
      ]
     },
     "execution_count": 15,
     "metadata": {},
     "output_type": "execute_result"
    }
   ],
   "source": [
    "train_set, test_set = train_test_split(df_obj, test_size=0.2, random_state=42)\n",
    "test_set.head()"
   ]
  },
  {
   "cell_type": "code",
   "execution_count": 16,
   "metadata": {},
   "outputs": [
    {
     "name": "stdout",
     "output_type": "stream",
     "text": [
      "(252035, 6)\n",
      "(63009, 6)\n"
     ]
    }
   ],
   "source": [
    "print(train_set.shape)\n",
    "print(test_set.shape)"
   ]
  },
  {
   "cell_type": "markdown",
   "metadata": {},
   "source": [
    "---\n",
    "# 4. Prepare the data for Machine Learning algorithms\n",
    "---\n",
    "\n",
    "### 4.1 Feature Engineering\n",
    "\n",
    "Most of our features seem like they are well suited for machine learning (i.e. numeric features of realtively simillar magnitue with no missing values) except for `country` which is still categorical text information. One simple way around this is to use one-hot encoding for country. This is easily achieved with the `pd.get_dummies()` method:"
   ]
  },
  {
   "cell_type": "code",
   "execution_count": 17,
   "metadata": {},
   "outputs": [
    {
     "data": {
      "text/html": [
       "<div>\n",
       "<style>\n",
       "    .dataframe thead tr:only-child th {\n",
       "        text-align: right;\n",
       "    }\n",
       "\n",
       "    .dataframe thead th {\n",
       "        text-align: left;\n",
       "    }\n",
       "\n",
       "    .dataframe tbody tr th {\n",
       "        vertical-align: top;\n",
       "    }\n",
       "</style>\n",
       "<table border=\"1\" class=\"dataframe\">\n",
       "  <thead>\n",
       "    <tr style=\"text-align: right;\">\n",
       "      <th></th>\n",
       "      <th>pages_visited</th>\n",
       "      <th>age</th>\n",
       "      <th>new_user</th>\n",
       "      <th>is_China</th>\n",
       "      <th>is_Germany</th>\n",
       "      <th>is_UK</th>\n",
       "      <th>is_US</th>\n",
       "    </tr>\n",
       "  </thead>\n",
       "  <tbody>\n",
       "    <tr>\n",
       "      <th>96783</th>\n",
       "      <td>4</td>\n",
       "      <td>36</td>\n",
       "      <td>1</td>\n",
       "      <td>0</td>\n",
       "      <td>0</td>\n",
       "      <td>0</td>\n",
       "      <td>1</td>\n",
       "    </tr>\n",
       "    <tr>\n",
       "      <th>27686</th>\n",
       "      <td>2</td>\n",
       "      <td>21</td>\n",
       "      <td>1</td>\n",
       "      <td>0</td>\n",
       "      <td>0</td>\n",
       "      <td>0</td>\n",
       "      <td>1</td>\n",
       "    </tr>\n",
       "    <tr>\n",
       "      <th>210492</th>\n",
       "      <td>8</td>\n",
       "      <td>45</td>\n",
       "      <td>1</td>\n",
       "      <td>0</td>\n",
       "      <td>0</td>\n",
       "      <td>1</td>\n",
       "      <td>0</td>\n",
       "    </tr>\n",
       "    <tr>\n",
       "      <th>255870</th>\n",
       "      <td>7</td>\n",
       "      <td>20</td>\n",
       "      <td>0</td>\n",
       "      <td>0</td>\n",
       "      <td>0</td>\n",
       "      <td>1</td>\n",
       "      <td>0</td>\n",
       "    </tr>\n",
       "    <tr>\n",
       "      <th>290561</th>\n",
       "      <td>1</td>\n",
       "      <td>25</td>\n",
       "      <td>1</td>\n",
       "      <td>0</td>\n",
       "      <td>0</td>\n",
       "      <td>0</td>\n",
       "      <td>1</td>\n",
       "    </tr>\n",
       "  </tbody>\n",
       "</table>\n",
       "</div>"
      ],
      "text/plain": [
       "        pages_visited  age  new_user  is_China  is_Germany  is_UK  is_US\n",
       "96783               4   36         1         0           0      0      1\n",
       "27686               2   21         1         0           0      0      1\n",
       "210492              8   45         1         0           0      1      0\n",
       "255870              7   20         0         0           0      1      0\n",
       "290561              1   25         1         0           0      0      1"
      ]
     },
     "execution_count": 17,
     "metadata": {},
     "output_type": "execute_result"
    }
   ],
   "source": [
    "feat_list = ['pages_visited', 'age', 'new_user', 'is_China', 'is_Germany', 'is_UK', 'is_US']\n",
    "feat_train_obj = pd.get_dummies(train_set, prefix='is').loc[:, feat_list]\n",
    "feat_train_obj.head()"
   ]
  },
  {
   "cell_type": "markdown",
   "metadata": {},
   "source": [
    "Let's also isolate the labels while we are at it:"
   ]
  },
  {
   "cell_type": "code",
   "execution_count": 18,
   "metadata": {},
   "outputs": [
    {
     "data": {
      "text/html": [
       "<div>\n",
       "<style>\n",
       "    .dataframe thead tr:only-child th {\n",
       "        text-align: right;\n",
       "    }\n",
       "\n",
       "    .dataframe thead th {\n",
       "        text-align: left;\n",
       "    }\n",
       "\n",
       "    .dataframe tbody tr th {\n",
       "        vertical-align: top;\n",
       "    }\n",
       "</style>\n",
       "<table border=\"1\" class=\"dataframe\">\n",
       "  <thead>\n",
       "    <tr style=\"text-align: right;\">\n",
       "      <th></th>\n",
       "      <th>converted</th>\n",
       "    </tr>\n",
       "  </thead>\n",
       "  <tbody>\n",
       "    <tr>\n",
       "      <th>96783</th>\n",
       "      <td>0</td>\n",
       "    </tr>\n",
       "    <tr>\n",
       "      <th>27686</th>\n",
       "      <td>0</td>\n",
       "    </tr>\n",
       "    <tr>\n",
       "      <th>210492</th>\n",
       "      <td>0</td>\n",
       "    </tr>\n",
       "    <tr>\n",
       "      <th>255870</th>\n",
       "      <td>0</td>\n",
       "    </tr>\n",
       "    <tr>\n",
       "      <th>290561</th>\n",
       "      <td>0</td>\n",
       "    </tr>\n",
       "  </tbody>\n",
       "</table>\n",
       "</div>"
      ],
      "text/plain": [
       "        converted\n",
       "96783           0\n",
       "27686           0\n",
       "210492          0\n",
       "255870          0\n",
       "290561          0"
      ]
     },
     "execution_count": 18,
     "metadata": {},
     "output_type": "execute_result"
    }
   ],
   "source": [
    "label_train_obj = train_set.loc[:, ['converted']]\n",
    "label_train_obj.head()"
   ]
  },
  {
   "cell_type": "markdown",
   "metadata": {},
   "source": [
    "### 4.2 Feature Independance\n",
    "\n",
    "The next step is to check for feature independence. We will use the Spearman R Coeccicient to look at independance between the ordinal features; i.e., age and pages visited."
   ]
  },
  {
   "cell_type": "code",
   "execution_count": 19,
   "metadata": {},
   "outputs": [
    {
     "name": "stdout",
     "output_type": "stream",
     "text": [
      "pages visited, age: \n",
      "\tSpear Coeff: -0.0269825615085 p_value: 8.08895971752e-42\n"
     ]
    }
   ],
   "source": [
    "spearmanr_coef, p_value = spearmanr(feat_train_obj['pages_visited'], feat_train_obj['age'])\n",
    "print('pages visited, age:', '\\n\\tSpear Coeff:', spearmanr_coef, 'p_value:', p_value)"
   ]
  },
  {
   "cell_type": "markdown",
   "metadata": {
    "collapsed": true
   },
   "source": [
    "So, it looks like there these features are independent, which is good news!\n",
    "\n",
    "Next, lets set aside out feature set for the first model, which will use only pages_visited or age as a univariate classification:"
   ]
  },
  {
   "cell_type": "code",
   "execution_count": 20,
   "metadata": {
    "collapsed": true
   },
   "outputs": [],
   "source": [
    "feat_train_pages = feat_train_obj.loc[:,['pages_visited']].values\n",
    "feat_train_age = feat_train_obj.loc[:,['age']].values\n",
    "label_train = label_train_obj['converted'].values"
   ]
  },
  {
   "cell_type": "markdown",
   "metadata": {
    "collapsed": true
   },
   "source": [
    "# 5. Select a model and train it"
   ]
  },
  {
   "cell_type": "code",
   "execution_count": 21,
   "metadata": {
    "collapsed": true
   },
   "outputs": [],
   "source": [
    "log_reg_pages = LogisticRegression()\n",
    "log_reg_pages.fit(feat_train_pages, label_train);\n",
    "\n",
    "log_reg_age = LogisticRegression()\n",
    "log_reg_age.fit(feat_train_age, label_train);"
   ]
  },
  {
   "cell_type": "markdown",
   "metadata": {
    "collapsed": true
   },
   "source": [
    "Done! You now we a working Logistic Regression model. Let’s try it out and see how it performs:"
   ]
  },
  {
   "cell_type": "code",
   "execution_count": 22,
   "metadata": {},
   "outputs": [
    {
     "name": "stdout",
     "output_type": "stream",
     "text": [
      "log_reg_pages:\t [ 0.98314526  0.98244298  0.98329981]\n",
      "log_reg_age:\t [ 0.96744513  0.96744513  0.96744474]\n"
     ]
    }
   ],
   "source": [
    "print('log_reg_pages:\\t', cross_val_score(log_reg_pages, feat_train_pages, label_train, cv=3, scoring=\"accuracy\"))\n",
    "print('log_reg_age:\\t', cross_val_score(log_reg_age, feat_train_age, label_train, cv=3, scoring=\"accuracy\"))"
   ]
  },
  {
   "cell_type": "markdown",
   "metadata": {},
   "source": [
    "Wow! The `pages_visited` model had over 98% accuracy (ratio of correct predictions) on all cross-validation folds. This looks amazing, doesn’t it? The `age` model didn't do quite as well with only 97% accuracy. Before we get too excited, let’s look at a naive classifier that classifies every user as \"not-converted\":"
   ]
  },
  {
   "cell_type": "code",
   "execution_count": 23,
   "metadata": {
    "collapsed": true
   },
   "outputs": [],
   "source": [
    "class NaiveClassifier(BaseEstimator):\n",
    "    def fit(self, feat, label=None):\n",
    "        pass\n",
    "    def predict(self, feat):\n",
    "        pred = np.zeros((len(feat), 1), dtype=bool)\n",
    "        pred[0] = True;\n",
    "        return pred"
   ]
  },
  {
   "cell_type": "code",
   "execution_count": 24,
   "metadata": {},
   "outputs": [
    {
     "name": "stdout",
     "output_type": "stream",
     "text": [
      "naive_classifier:\t [ 0.96796886  0.96686188  0.96746855]\n"
     ]
    }
   ],
   "source": [
    "naive_clf = NaiveClassifier()\n",
    "print('naive_classifier:\\t', cross_val_score(naive_clf, feat_train_pages, label_train, cv=3, scoring=\"accuracy\"))"
   ]
  },
  {
   "cell_type": "markdown",
   "metadata": {},
   "source": [
    "That’s right, it has nearly 97% accuracy! This is simply because only about 3% of users are actually converted, so if you always guess \"not-converted\", you will be right about 97% of the time.\n",
    "\n",
    "**This demonstrates why accuracy is generally not the preferred performance measure for classifiers, especially when you are dealing with skewed datasets (i.e., when some classes are much more frequent than others).** \n",
    "So, let's take a look at the precision and recall:"
   ]
  },
  {
   "cell_type": "code",
   "execution_count": 25,
   "metadata": {},
   "outputs": [
    {
     "name": "stdout",
     "output_type": "stream",
     "text": [
      "             precision    recall  f1-score   support\n",
      "\n",
      "          0       0.97      1.00      0.98    243830\n",
      "          1       0.00      0.00      0.00      8205\n",
      "\n",
      "avg / total       0.94      0.97      0.95    252035\n",
      "\n"
     ]
    }
   ],
   "source": [
    "print(classification_report(label_train, naive_clf.predict(feat_train_pages)))"
   ]
  },
  {
   "cell_type": "markdown",
   "metadata": {},
   "source": [
    "Again, we see the 97% precision at 100% recall for the naive classifier."
   ]
  },
  {
   "cell_type": "code",
   "execution_count": 26,
   "metadata": {},
   "outputs": [
    {
     "name": "stdout",
     "output_type": "stream",
     "text": [
      "             precision    recall  f1-score   support\n",
      "\n",
      "          0       0.99      1.00      0.99    243830\n",
      "          1       0.82      0.61      0.70      8205\n",
      "\n",
      "avg / total       0.98      0.98      0.98    252035\n",
      "\n"
     ]
    }
   ],
   "source": [
    "print(classification_report(label_train, log_reg_pages.predict(feat_train_pages)))"
   ]
  },
  {
   "cell_type": "markdown",
   "metadata": {},
   "source": [
    "Now our classifier does not look as shiny as it did when you looked at its accuracy. When it claims an customer was converted, it is correct only 82% of the time. Moreover, it only detects 61% of converted users.\n",
    "\n",
    "Let's visualize the model:"
   ]
  },
  {
   "cell_type": "code",
   "execution_count": 27,
   "metadata": {},
   "outputs": [
    {
     "data": {
      "image/png": "[encoded data removed]",
      "text/plain": [
       "<matplotlib.figure.Figure at 0x11344a9e8>"
      ]
     },
     "metadata": {},
     "output_type": "display_data"
    }
   ],
   "source": [
    "x0 = np.linspace(0, 30, 250).reshape(-1, 1)\n",
    "label_proba = log_reg_pages.predict_proba(x0)\n",
    "visualize_1d_logreg(x0, label_proba, ['Converted', 'Not Converted'], 0.002,\n",
    "                    'Pages Viewed', feat_train_pages, label_train)"
   ]
  },
  {
   "cell_type": "markdown",
   "metadata": {},
   "source": [
    "After chatting with the product and marketing teams, they decide that they would like to have a higer recall, so that they can detect users that are likely to be converted. They also said they are willing to deal with precition as low as 60%. So in order to do this, we will need to set the decision threshold at a location other than zero.\n",
    "\n",
    "Scikit-Learn does not allow users to set the threshold directly. However, it does give users access to the decision scores that it uses to make predictions. Instead of calling the classifier’s `predict()` method, you can call its `decision_function()` method, which returns a score for each instance, and then makes predictions based on those scores using any threshold you want:"
   ]
  },
  {
   "cell_type": "code",
   "execution_count": 28,
   "metadata": {},
   "outputs": [
    {
     "name": "stdout",
     "output_type": "stream",
     "text": [
      "[-10.20132155  -6.43440767  -2.6674938    1.09942008   4.86633396]\n"
     ]
    }
   ],
   "source": [
    "label_scores = log_reg_pages.decision_function([[0], [5], [10], [15], [20]])\n",
    "print(label_scores)"
   ]
  },
  {
   "cell_type": "markdown",
   "metadata": {},
   "source": [
    "So how can you decide which threshold to use? For this you will first need to get the scores of all instances in the training set using the `cross_val_predict()` function, but this time specifying that you want it to return decision scores instead of predictions:"
   ]
  },
  {
   "cell_type": "code",
   "execution_count": 29,
   "metadata": {
    "collapsed": true
   },
   "outputs": [],
   "source": [
    "label_scores = cross_val_predict(log_reg_pages, feat_train_pages, label_train, cv=3, method=\"decision_function\")"
   ]
  },
  {
   "cell_type": "markdown",
   "metadata": {},
   "source": [
    "Now with these scores you can compute precision and recall for all possible thresholds using the `precision_recall_curve()` function:"
   ]
  },
  {
   "cell_type": "code",
   "execution_count": 30,
   "metadata": {
    "collapsed": true
   },
   "outputs": [],
   "source": [
    "precisions, recalls, thresholds = precision_recall_curve(label_train, label_scores)"
   ]
  },
  {
   "cell_type": "markdown",
   "metadata": {},
   "source": [
    "Finally, you can plot precision and recall as functions of the threshold value using Matplotlib:"
   ]
  },
  {
   "cell_type": "code",
   "execution_count": 31,
   "metadata": {},
   "outputs": [
    {
     "data": {
      "image/png": "[encoded data removed]",
      "text/plain": [
       "<matplotlib.figure.Figure at 0x11308d9b0>"
      ]
     },
     "metadata": {},
     "output_type": "display_data"
    }
   ],
   "source": [
    "plt.figure(figsize=(8, 4))\n",
    "plot_precision_recall_vs_threshold(precisions, recalls, thresholds)\n",
    "plt.xlim([-8, 10]);"
   ]
  },
  {
   "cell_type": "markdown",
   "metadata": {},
   "source": [
    "So, it looks like we could inrease (recall at the expense of precision), by setting the threshold closer to -1.85. This would result in a recall closer to 80% with a Precision around 60%. Lets give that a shot:"
   ]
  },
  {
   "cell_type": "code",
   "execution_count": 32,
   "metadata": {},
   "outputs": [
    {
     "name": "stdout",
     "output_type": "stream",
     "text": [
      "             precision    recall  f1-score   support\n",
      "\n",
      "          0       0.99      0.98      0.99    243830\n",
      "          1       0.59      0.79      0.68      8205\n",
      "\n",
      "avg / total       0.98      0.98      0.98    252035\n",
      "\n"
     ]
    }
   ],
   "source": [
    "print(classification_report(label_train, log_reg_pages.decision_function(feat_train_pages) > -1.85))"
   ]
  },
  {
   "cell_type": "markdown",
   "metadata": {},
   "source": [
    "Just as we expected. We were able to increase recall by adjusting the threshold while satisfying the precision constraint. Before we move on to the next model, let's try to interpret the output:"
   ]
  },
  {
   "cell_type": "markdown",
   "metadata": {},
   "source": [
    "### Now let's try to add a second feature. \n",
    "\n",
    "Specifically, age to see if this would increase model accuracy."
   ]
  },
  {
   "cell_type": "code",
   "execution_count": 33,
   "metadata": {
    "collapsed": true
   },
   "outputs": [],
   "source": [
    "feat_train_2 = train_set.loc[:,['pages_visited', 'age']].values\n",
    "\n",
    "log_reg_2 = LogisticRegression()\n",
    "log_reg_2.fit(feat_train_2, label_train);"
   ]
  },
  {
   "cell_type": "code",
   "execution_count": 34,
   "metadata": {},
   "outputs": [
    {
     "name": "stdout",
     "output_type": "stream",
     "text": [
      "0.983454678914\n"
     ]
    }
   ],
   "source": [
    "print(log_reg_2.score(feat_train_2, label_train))"
   ]
  },
  {
   "cell_type": "code",
   "execution_count": 35,
   "metadata": {},
   "outputs": [
    {
     "name": "stdout",
     "output_type": "stream",
     "text": [
      "             precision    recall  f1-score   support\n",
      "\n",
      "          0       0.99      1.00      0.99    243830\n",
      "          1       0.83      0.62      0.71      8205\n",
      "\n",
      "avg / total       0.98      0.98      0.98    252035\n",
      "\n"
     ]
    }
   ],
   "source": [
    "print(classification_report(label_train, log_reg_2.predict(feat_train_2)))"
   ]
  },
  {
   "cell_type": "markdown",
   "metadata": {},
   "source": [
    "Looks like adding the age didn't change things much. It did increase precision, recall, and f1-score by 0.01 across the board. But this is not much better. \n",
    "\n",
    "Again, let's visualize the model:"
   ]
  },
  {
   "cell_type": "code",
   "execution_count": 36,
   "metadata": {},
   "outputs": [
    {
     "data": {
      "image/png": "[encoded data removed]",
      "text/plain": [
       "<matplotlib.figure.Figure at 0x11344d710>"
      ]
     },
     "metadata": {},
     "output_type": "display_data"
    }
   ],
   "source": [
    "visualize_2d_logreg(log_reg_2, [0, 30], [17, 55], feat_train_2, label_train, manual_locations)"
   ]
  },
  {
   "cell_type": "code",
   "execution_count": 37,
   "metadata": {},
   "outputs": [
    {
     "data": {
      "image/png": "[encoded data removed]",
      "text/plain": [
       "<matplotlib.figure.Figure at 0x113c7b2e8>"
      ]
     },
     "metadata": {},
     "output_type": "display_data"
    }
   ],
   "source": [
    "label_scores = cross_val_predict(log_reg_2, feat_train_2, label_train, cv=3, method=\"decision_function\")\n",
    "precisions, recalls, thresholds = precision_recall_curve(label_train, label_scores)\n",
    "plt.figure(figsize=(8, 4))\n",
    "plot_precision_recall_vs_threshold(precisions, recalls, thresholds)\n",
    "plt.xlim([-8, 10]);"
   ]
  },
  {
   "cell_type": "code",
   "execution_count": 38,
   "metadata": {},
   "outputs": [
    {
     "name": "stdout",
     "output_type": "stream",
     "text": [
      "             precision    recall  f1-score   support\n",
      "\n",
      "          0       0.99      0.98      0.99    243830\n",
      "          1       0.60      0.79      0.69      8205\n",
      "\n",
      "avg / total       0.98      0.98      0.98    252035\n",
      "\n"
     ]
    }
   ],
   "source": [
    "print(classification_report(label_train, log_reg_2.decision_function(feat_train_2) > -1.5))"
   ]
  },
  {
   "cell_type": "markdown",
   "metadata": {},
   "source": [
    "### Now let's try to add a third feature:\n",
    "\n",
    "Namely: New user"
   ]
  },
  {
   "cell_type": "code",
   "execution_count": 39,
   "metadata": {},
   "outputs": [
    {
     "data": {
      "text/plain": [
       "LogisticRegression(C=1.0, class_weight=None, dual=False, fit_intercept=True,\n",
       "          intercept_scaling=1, max_iter=100, multi_class='ovr', n_jobs=1,\n",
       "          penalty='l2', random_state=None, solver='liblinear', tol=0.0001,\n",
       "          verbose=0, warm_start=False)"
      ]
     },
     "execution_count": 39,
     "metadata": {},
     "output_type": "execute_result"
    }
   ],
   "source": [
    "feat_train_3 = train_set.loc[:,['pages_visited', 'age', 'new_user']].values\n",
    "\n",
    "log_reg_3 = LogisticRegression()\n",
    "log_reg_3.fit(feat_train_3, label_train);"
   ]
  },
  {
   "cell_type": "code",
   "execution_count": 40,
   "metadata": {},
   "outputs": [
    {
     "name": "stdout",
     "output_type": "stream",
     "text": [
      "0.985057630885\n"
     ]
    }
   ],
   "source": [
    "print(log_reg_3.score(feat_train_3, label_train))"
   ]
  },
  {
   "cell_type": "code",
   "execution_count": 41,
   "metadata": {},
   "outputs": [
    {
     "name": "stdout",
     "output_type": "stream",
     "text": [
      "             precision    recall  f1-score   support\n",
      "\n",
      "          0       0.99      1.00      0.99    243830\n",
      "          1       0.84      0.66      0.74      8205\n",
      "\n",
      "avg / total       0.98      0.99      0.98    252035\n",
      "\n"
     ]
    }
   ],
   "source": [
    "print(classification_report(label_train, log_reg_3.predict(feat_train_3)))"
   ]
  },
  {
   "cell_type": "code",
   "execution_count": 42,
   "metadata": {},
   "outputs": [
    {
     "data": {
      "image/png": "[encoded data removed]",
      "text/plain": [
       "<matplotlib.figure.Figure at 0x114fb02b0>"
      ]
     },
     "metadata": {},
     "output_type": "display_data"
    }
   ],
   "source": [
    "label_scores = cross_val_predict(log_reg_3, feat_train_3, label_train, cv=3, method=\"decision_function\")\n",
    "precisions, recalls, thresholds = precision_recall_curve(label_train, label_scores)\n",
    "plt.figure(figsize=(8, 4))\n",
    "plot_precision_recall_vs_threshold(precisions, recalls, thresholds)\n",
    "plt.xlim([-8, 10]);"
   ]
  },
  {
   "cell_type": "code",
   "execution_count": 43,
   "metadata": {},
   "outputs": [
    {
     "name": "stdout",
     "output_type": "stream",
     "text": [
      "             precision    recall  f1-score   support\n",
      "\n",
      "          0       0.99      0.98      0.99    243830\n",
      "          1       0.60      0.83      0.69      8205\n",
      "\n",
      "avg / total       0.98      0.98      0.98    252035\n",
      "\n"
     ]
    }
   ],
   "source": [
    "print(classification_report(label_train, log_reg_3.decision_function(feat_train_3) > -1.75))"
   ]
  },
  {
   "cell_type": "markdown",
   "metadata": {},
   "source": [
    "### Now let's try to add a fourth categorical feature:\n",
    "\n",
    "Namely: New user and then country"
   ]
  },
  {
   "cell_type": "code",
   "execution_count": 44,
   "metadata": {},
   "outputs": [
    {
     "data": {
      "text/plain": [
       "LogisticRegression(C=1.0, class_weight=None, dual=False, fit_intercept=True,\n",
       "          intercept_scaling=1, max_iter=100, multi_class='ovr', n_jobs=1,\n",
       "          penalty='l2', random_state=None, solver='liblinear', tol=0.0001,\n",
       "          verbose=0, warm_start=False)"
      ]
     },
     "execution_count": 44,
     "metadata": {},
     "output_type": "execute_result"
    }
   ],
   "source": [
    "feat_list_4 = ['pages_visited', 'age', 'new_user', 'is_China', 'is_Germany', 'is_UK', 'is_US']\n",
    "feat_train_4 = pd.get_dummies(train_set, prefix='is').loc[:, feat_list_4].values\n",
    "\n",
    "log_reg_4 = LogisticRegression()\n",
    "log_reg_4.fit(feat_train_4, label_train)"
   ]
  },
  {
   "cell_type": "code",
   "execution_count": 45,
   "metadata": {},
   "outputs": [
    {
     "name": "stdout",
     "output_type": "stream",
     "text": [
      "0.986148749182\n"
     ]
    }
   ],
   "source": [
    "print(log_reg_4.score(feat_train_4, label_train))"
   ]
  },
  {
   "cell_type": "code",
   "execution_count": 46,
   "metadata": {},
   "outputs": [
    {
     "name": "stdout",
     "output_type": "stream",
     "text": [
      "             precision    recall  f1-score   support\n",
      "\n",
      "          0       0.99      1.00      0.99    243830\n",
      "          1       0.85      0.69      0.77      8205\n",
      "\n",
      "avg / total       0.99      0.99      0.99    252035\n",
      "\n"
     ]
    }
   ],
   "source": [
    "print(classification_report(label_train, log_reg_4.predict(feat_train_4)))"
   ]
  },
  {
   "cell_type": "code",
   "execution_count": 47,
   "metadata": {},
   "outputs": [
    {
     "data": {
      "image/png": "[encoded data removed]",
      "text/plain": [
       "<matplotlib.figure.Figure at 0x1130bb780>"
      ]
     },
     "metadata": {},
     "output_type": "display_data"
    }
   ],
   "source": [
    "label_scores = cross_val_predict(log_reg_4, feat_train_4, label_train, cv=3, method=\"decision_function\")\n",
    "precisions, recalls, thresholds = precision_recall_curve(label_train, label_scores)\n",
    "plt.figure(figsize=(8, 4))\n",
    "plot_precision_recall_vs_threshold(precisions, recalls, thresholds)\n",
    "plt.xlim([-8, 10]);"
   ]
  },
  {
   "cell_type": "code",
   "execution_count": 48,
   "metadata": {},
   "outputs": [
    {
     "name": "stdout",
     "output_type": "stream",
     "text": [
      "             precision    recall  f1-score   support\n",
      "\n",
      "          0       1.00      0.98      0.99    243830\n",
      "          1       0.60      0.86      0.71      8205\n",
      "\n",
      "avg / total       0.98      0.98      0.98    252035\n",
      "\n"
     ]
    }
   ],
   "source": [
    "print(classification_report(label_train, log_reg_4.decision_function(feat_train_4) > -1.85))"
   ]
  },
  {
   "cell_type": "markdown",
   "metadata": {},
   "source": [
    "#### There are functions that will be used in the notebook. Make sure these are defined before you try to run anything else"
   ]
  },
  {
   "cell_type": "code",
   "execution_count": 1,
   "metadata": {
    "collapsed": true
   },
   "outputs": [],
   "source": [
    "def get_1d_logreg_decn_bndry(feat_range, proba):\n",
    "    return feat_range[proba[:, 1] >= 0.5][0]\n",
    "\n",
    "def plt_1d_logreg_proba(ax, feat_range, proba, labels):\n",
    "    ax.plot(feat_range, proba[:, 1], '-',  lw=2, color='#4796B8', label=labels[0])\n",
    "    ax.plot(feat_range, proba[:, 0], '--', lw=2, color='#EA662E', label=labels[1])\n",
    "\n",
    "def plt_1d_logreg_obs(ax, feat, label, transparency=0.1):\n",
    "    ax.plot(feat[label==0], label[label==0], 's', color='#EA662E', alpha=transparency)\n",
    "    ax.plot(feat[label==1], label[label==1], '^', color='#4796B8', alpha=transparency)\n",
    "\n",
    "def plt_1d_logreg_decn_bndry(ax, bndry, feat_range):\n",
    "    ptp = np.ptp(feat_range)\n",
    "    dx = 0.03*ptp\n",
    "    h_len = 0.01*ptp\n",
    "    ax.plot([bndry, bndry], [0, 1], ':', lw=2, color='#666666')\n",
    "    ax.text(bndry+dx, 0.48, 'Decision  boundary', fontsize=13, fontweight='bold', color='#666666')\n",
    "    ax.arrow(bndry, 0.08, -dx, 0, head_width=0.05, head_length=h_len, lw=2, fc='#EA662E', ec='#EA662E')\n",
    "    ax.arrow(bndry, 0.92,  dx, 0, head_width=0.05, head_length=h_len, lw=2, fc='#4796B8', ec='#4796B8')\n",
    "\n",
    "def plt_frmt_1d_logreg(ax, feat_range, x_label='feature'):\n",
    "    ax.set_xlabel(x_label)\n",
    "    ax.set_ylabel('Probability')\n",
    "    ax.legend(loc='center left', bbox_to_anchor=(1, 0.5), frameon=True, fancybox=True)\n",
    "    ax.axis([np.amin(feat_range), np.amax(feat_range), -0.02, 1.02]);\n",
    "\n",
    "def visualize_1d_logreg(feat_range, proba, labels, transparency, x_label, train_feat, train_label):\n",
    "    _, ax1 = plt.subplots(figsize=(8, 3))\n",
    "    bndry = get_1d_logreg_decn_bndry(feat_range, proba)\n",
    "    plt_1d_logreg_proba(ax1, feat_range, proba, labels)\n",
    "    plt_1d_logreg_obs(ax1, train_feat, train_label, transparency=transparency)\n",
    "    plt_1d_logreg_decn_bndry(ax1, bndry, feat_range)\n",
    "    plt_frmt_1d_logreg(ax1, feat_range, x_label=x_label)\n",
    "\n",
    "# ---------------------------------------------------------------- #\n",
    "\n",
    "def get_2d_logreg_feat_space(x0_range, x1_range):\n",
    "    x0_min, x0_max = x0_range\n",
    "    x1_min, x1_max = x1_range\n",
    "    x0, x1 = np.meshgrid(np.linspace(x0_min,  x0_max, 500).reshape(-1, 1),\n",
    "                         np.linspace(x1_min,  x1_max, 500).reshape(-1, 1))\n",
    "    return np.c_[x0.ravel(), x1.ravel()], x0, x1\n",
    "\n",
    "def get_2d_logreg_decn_bndry(log_reg_2, feat_range):\n",
    "    return -(log_reg_2.coef_[0][0] * np.array(feat_range) + log_reg_2.intercept_[0]) / log_reg_2.coef_[0][1]\n",
    "\n",
    "def plt_2d_logreg_obs(ax, feat, label):\n",
    "    ax.plot(feat[label==0, 0], feat[label==0, 1], 's',\n",
    "         color='#EA662E', markersize=7, alpha=0.002, zorder=1, label='Not Converted')\n",
    "    \n",
    "    ax.plot(feat[label==1, 0], feat[label==1, 1], '^',\n",
    "         color='#4796B8', markersize=7, alpha=0.1, zorder=2, label='Converted')\n",
    "\n",
    "def plt_2d_logreg_proba(ax, x0, x1, proba, manual_locations):\n",
    "    surface = proba[:, 1].reshape(x0.shape)\n",
    "    contour = ax.contour(x0, x1, surface, colors='#666666', zorder=3)\n",
    "    ax.clabel(contour, inline=1, fontsize=13, manual=manual_locations)\n",
    "\n",
    "def plt_frmt_2d_logreg(ax, boundary, x0_range, x1_range, x0_label='feature 1', x1_label='feature 2'):\n",
    "    ax.plot(x0_range, boundary, \"k--\", linewidth=2)\n",
    "    plt.xlabel(x0_label, fontsize=14)\n",
    "    plt.ylabel(x1_label, fontsize=14)\n",
    "    plt.axis(x0_range + x1_range);\n",
    "    for lh in ax.legend().legendHandles: \n",
    "        lh._legmarker.set_alpha(1)\n",
    "    \n",
    "    \n",
    "def visualize_2d_logreg(log_reg_2, x0_range, x1_range, feat, label, locs):\n",
    "    _, ax1 = plt.subplots(figsize=(10,4))\n",
    "    feat_space, x0, x1 = get_2d_logreg_feat_space(x0_range, x1_range)\n",
    "    bndry = get_2d_logreg_decn_bndry(log_reg_2, x0_range)\n",
    "    label_proba = log_reg_2.predict_proba(feat_space)\n",
    "    plt_2d_logreg_obs(ax1, feat, label)\n",
    "    plt_2d_logreg_proba(ax1, x0, x1, label_proba, locs)\n",
    "    plt_frmt_2d_logreg(ax1, bndry, x0_range, x1_range, 'Pages Visited', 'Age')\n",
    "\n",
    "manual_locations = [(13.5, 50), (14.5, 50), (15.5, 50), (16.25, 50), (17.25, 50), (18.65, 50)]\n",
    "\n",
    "# ---------------------------------------------------------------- #\n",
    "\n",
    "def plot_precision_recall_vs_threshold(precisions, recalls, thresholds):\n",
    "    plt.plot(thresholds, precisions[:-1], color='#4796B8', label=\"Precision\", linewidth=2)\n",
    "    plt.plot(thresholds, recalls[:-1], \"--\", color='#EA662E', label=\"Recall\", linewidth=2)\n",
    "    plt.xlabel(\"Threshold\", fontsize=16)\n",
    "    plt.legend(fontsize=16)\n",
    "    plt.ylim([0, 1])\n",
    "\n",
    "def plot_precision_vs_recall(precisions, recalls):\n",
    "    plt.plot(recalls, precisions, color=\"#4796B8\", linewidth=2)\n",
    "    plt.xlabel(\"Recall\", fontsize=16)\n",
    "    plt.ylabel(\"Precision\", fontsize=16)\n",
    "    plt.axis([0, 1, 0, 1])"
   ]
  }
 ],
 "metadata": {
  "anaconda-cloud": {},
  "kernelspec": {
   "display_name": "Python [py35]",
   "language": "python",
   "name": "Python [py35]"
  },
  "language_info": {
   "codemirror_mode": {
    "name": "ipython",
    "version": 3
   },
   "file_extension": ".py",
   "mimetype": "text/x-python",
   "name": "python",
   "nbconvert_exporter": "python",
   "pygments_lexer": "ipython3",
   "version": "3.5.2"
  }
 },
 "nbformat": 4,
 "nbformat_minor": 1
}
